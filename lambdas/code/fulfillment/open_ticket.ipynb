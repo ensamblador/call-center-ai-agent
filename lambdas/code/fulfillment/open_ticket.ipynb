{
 "cells": [
  {
   "cell_type": "code",
   "execution_count": 3,
   "metadata": {},
   "outputs": [],
   "source": [
    "import boto3\n",
    "dynamodb            = boto3.resource('dynamodb')\n",
    "from boto3.dynamodb.conditions import Key\n",
    "\n",
    "TICKET_TABLE_NAME = \"CC-Agent-Tbissue30AF8567-F5UTHB2T4HBK\"\n",
    "ORDER_TABLE_NAME = \"CC-Agent-TbordersF2EF1B9B-BWXY5D7E2Q58\""
   ]
  },
  {
   "cell_type": "code",
   "execution_count": 4,
   "metadata": {},
   "outputs": [],
   "source": [
    "def open_ticket(session_id, order_number, rut, description):\n",
    "    print (f\"abriendo ticket\")\n",
    "    table = dynamodb.Table(TICKET_TABLE_NAME)\n",
    "    item = {\n",
    "        \"issue_number\": session_id,\n",
    "        \"order_number\": order_number,\n",
    "        \"identity_document_number\": rut,\n",
    "        \"issue_details\": description\n",
    "    }\n",
    "    response  = table.put_item(Item=item, ReturnValues= \"ALL_OLD\")\n",
    "    if response.get(\"ResponseMetadata\").get(\"HTTPStatusCode\") == 200:\n",
    "        return f\"Hemos creado el ticket {session_id} para seguimiento de este caso.\" \n",
    "    \n",
    "    return \"No se pudo crear el ticket\""
   ]
  },
  {
   "cell_type": "code",
   "execution_count": 5,
   "metadata": {},
   "outputs": [
    {
     "name": "stdout",
     "output_type": "stream",
     "text": [
      "abriendo ticket\n"
     ]
    }
   ],
   "source": [
    "response = open_ticket(\"12432\", \"99998\",\"10172737-4\", \"se me cayo\")"
   ]
  },
  {
   "cell_type": "code",
   "execution_count": 7,
   "metadata": {},
   "outputs": [
    {
     "data": {
      "text/plain": [
       "'Hemos creado el ticket 12432 para seguimiento de este caso.'"
      ]
     },
     "execution_count": 7,
     "metadata": {},
     "output_type": "execute_result"
    }
   ],
   "source": [
    "response"
   ]
  },
  {
   "cell_type": "code",
   "execution_count": 8,
   "metadata": {},
   "outputs": [],
   "source": [
    "def get_customer_data(phone_number):\n",
    "    table = dynamodb.Table(ORDER_TABLE_NAME)\n",
    "    response = table.query(\n",
    "        IndexName=\"phone_number\",\n",
    "        KeyConditionExpression=Key(\"phone_number\").eq(phone_number),\n",
    "        ScanIndexForward=True,\n",
    "        Limit=1,\n",
    "    )\n",
    "    items = response[\"Items\"]\n",
    "    if len(items): \n",
    "        return items[0]\n",
    "    return None\n"
   ]
  },
  {
   "cell_type": "code",
   "execution_count": 9,
   "metadata": {},
   "outputs": [
    {
     "data": {
      "text/plain": [
       "{'delivery_date': '2024-08-06',\n",
       " 'last_name': 'Rodriguez',\n",
       " 'identity_document_number': '10172747-5',\n",
       " 'shipping_address': 'Calle las acacias 123, Providencia. Region Metropolitana',\n",
       " 'first_name': 'Enrique',\n",
       " 'status': 'delivery',\n",
       " 'phone_number': '56974769647',\n",
       " 'order_number': '10026656'}"
      ]
     },
     "execution_count": 9,
     "metadata": {},
     "output_type": "execute_result"
    }
   ],
   "source": [
    "get_customer_data(\"56974769647\")"
   ]
  },
  {
   "cell_type": "code",
   "execution_count": 2,
   "metadata": {},
   "outputs": [
    {
     "data": {
      "text/plain": [
       "'77762496'"
      ]
     },
     "execution_count": 2,
     "metadata": {},
     "output_type": "execute_result"
    }
   ],
   "source": [
    "string = \"76dce677-8102-483b-9f17-77eec7624f96\"\n",
    "# remove non numbers\n",
    "ticket_number = ''.join(char for char in string.split('-')[-1] if char.isdigit())"
   ]
  },
  {
   "cell_type": "code",
   "execution_count": null,
   "metadata": {},
   "outputs": [],
   "source": []
  }
 ],
 "metadata": {
  "kernelspec": {
   "display_name": ".venv",
   "language": "python",
   "name": "python3"
  },
  "language_info": {
   "codemirror_mode": {
    "name": "ipython",
    "version": 3
   },
   "file_extension": ".py",
   "mimetype": "text/x-python",
   "name": "python",
   "nbconvert_exporter": "python",
   "pygments_lexer": "ipython3",
   "version": "3.12.4"
  }
 },
 "nbformat": 4,
 "nbformat_minor": 2
}
